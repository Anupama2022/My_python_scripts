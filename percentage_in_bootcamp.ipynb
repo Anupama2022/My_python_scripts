{
 "cells": [
  {
   "cell_type": "code",
   "execution_count": 14,
   "id": "021250b2-22ab-4522-bf96-3bfa7d29d992",
   "metadata": {},
   "outputs": [
    {
     "name": "stdout",
     "output_type": "stream",
     "text": [
      "31536000\n",
      "977616000\n",
      "6480000\n",
      "0.6628369421122404\n"
     ]
    }
   ],
   "source": [
    "year_sec = 365*24*60*60\n",
    "print(year_sec)\n",
    "life_seconds = year_sec * 31\n",
    "print(life_seconds)\n",
    "bootcamp = (75*24*3600)\n",
    "print(bootcamp)\n",
    "percent_bootcamp = (bootcamp/(life_seconds)) * 100\n",
    "print(percent_bootcamp)\n"
   ]
  },
  {
   "cell_type": "code",
   "execution_count": null,
   "id": "88ec5e2f-c123-490b-be11-9617da0b1060",
   "metadata": {},
   "outputs": [],
   "source": []
  },
  {
   "cell_type": "code",
   "execution_count": null,
   "id": "0c82eb48-f160-406a-b07b-830813f4d7f1",
   "metadata": {},
   "outputs": [],
   "source": []
  }
 ],
 "metadata": {
  "kernelspec": {
   "display_name": "Python 3 (ipykernel)",
   "language": "python",
   "name": "python3"
  },
  "language_info": {
   "codemirror_mode": {
    "name": "ipython",
    "version": 3
   },
   "file_extension": ".py",
   "mimetype": "text/x-python",
   "name": "python",
   "nbconvert_exporter": "python",
   "pygments_lexer": "ipython3",
   "version": "3.9.7"
  }
 },
 "nbformat": 4,
 "nbformat_minor": 5
}

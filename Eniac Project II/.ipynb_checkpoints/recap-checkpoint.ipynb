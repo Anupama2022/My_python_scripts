{
 "cells": [
  {
   "cell_type": "code",
   "execution_count": 57,
   "metadata": {},
   "outputs": [],
   "source": [
    "# Let's set up the libraries\n",
    "\n",
    "import pandas as pd\n",
    "import seaborn as sns\n",
    "import re\n",
    "\n",
    "# Seaborn has a lot of cool \n",
    "sns.set_theme(style='darkgrid')"
   ]
  },
  {
   "cell_type": "code",
   "execution_count": 47,
   "metadata": {},
   "outputs": [],
   "source": [
    "# We are using a sample of the dataset. The full dataset is available here: https://political-emails.herokuapp.com, and was made by this person: https://twitter.com/derekwillis\n",
    "\n",
    "df = pd.read_csv(\"https://github.com/tiagofassoni/useful-datasets/raw/main/10k_political_emails.csv.xz\")\n",
    "df = df.dropna() # I don't have any patience today to deal with null values\n",
    "df = df.drop(columns='Unnamed: 0') # I made a mistake when exporting the CSV"
   ]
  },
  {
   "cell_type": "code",
   "execution_count": 48,
   "metadata": {},
   "outputs": [],
   "source": [
    "df = df.rename(columns={'date': 'datetime'})\n",
    "df['datetime'] = pd.to_datetime(df['datetime'])\n",
    "df['date'] = pd.to_datetime(df['datetime']).dt.date\n"
   ]
  },
  {
   "cell_type": "code",
   "execution_count": 49,
   "metadata": {},
   "outputs": [
    {
     "name": "stdout",
     "output_type": "stream",
     "text": [
      "<class 'pandas.core.frame.DataFrame'>\n",
      "Int64Index: 9941 entries, 0 to 9999\n",
      "Data columns (total 12 columns):\n",
      " #   Column    Non-Null Count  Dtype         \n",
      "---  ------    --------------  -----         \n",
      " 0   name      9941 non-null   object        \n",
      " 1   email     9941 non-null   object        \n",
      " 2   subject   9941 non-null   object        \n",
      " 3   datetime  9941 non-null   datetime64[ns]\n",
      " 4   year      9941 non-null   float64       \n",
      " 5   month     9941 non-null   float64       \n",
      " 6   day       9941 non-null   float64       \n",
      " 7   hour      9941 non-null   float64       \n",
      " 8   minute    9941 non-null   float64       \n",
      " 9   domain    9941 non-null   object        \n",
      " 10  body      9941 non-null   object        \n",
      " 11  date      9941 non-null   object        \n",
      "dtypes: datetime64[ns](1), float64(5), object(6)\n",
      "memory usage: 1009.6+ KB\n"
     ]
    }
   ],
   "source": [
    "df.info()"
   ]
  },
  {
   "cell_type": "markdown",
   "metadata": {},
   "source": [
    "### Let's check how many emails per day"
   ]
  },
  {
   "cell_type": "code",
   "execution_count": 38,
   "metadata": {},
   "outputs": [
    {
     "data": {
      "text/plain": [
       "<AxesSubplot:>"
      ]
     },
     "execution_count": 38,
     "metadata": {},
     "output_type": "execute_result"
    },
    {
     "data": {
      "image/png": "[encoded data removed]",
      "text/plain": [
       "<Figure size 432x288 with 1 Axes>"
      ]
     },
     "metadata": {},
     "output_type": "display_data"
    }
   ],
   "source": [
    "df.date.value_counts().sort_index().plot()"
   ]
  },
  {
   "cell_type": "markdown",
   "metadata": {},
   "source": [
    "### Let's check how many emails per year and month"
   ]
  },
  {
   "cell_type": "markdown",
   "metadata": {},
   "source": []
  },
  {
   "cell_type": "markdown",
   "metadata": {},
   "source": [
    " Let's create a function that, given a row, returns `Yup, has Freedom` if:\n",
    " 1) `name` contains `White House`\n",
    " 2) `body` contains or `freedom`\n",
    "\n",
    " and returns `Fake News` if:\n",
    " 1) `subject` or `email` contains `Fake News` (case-insensitive)"
   ]
  },
  {
   "cell_type": "code",
   "execution_count": 62,
   "metadata": {},
   "outputs": [
    {
     "data": {
      "text/plain": [
       "Donald J. Trump                             144\n",
       "=?utf-8?Q?The=20White=20House?=              91\n",
       "DonaldJTrump.com                             89\n",
       "Trump News HQ                                73\n",
       "When Democrats Turn Out                      58\n",
       "EMILY's List                                 58\n",
       "Herschel Walker                              56\n",
       "Rand Paul                                    55\n",
       "GOP Presidential                             53\n",
       "Nancy Pelosi                                 50\n",
       "Terry McAuliffe                              44\n",
       "American Update                              43\n",
       "Marco Rubio                                  40\n",
       "HillaryClinton.com                           39\n",
       "The White House                              38\n",
       "=?utf-8?Q?Indiana=20Republican=20Party?=     37\n",
       "American Defense News                        35\n",
       "Self Reliance Central                        34\n",
       "Laura Loomer                                 32\n",
       "Elizabeth Warren                             32\n",
       "Jay Inslee                                   31\n",
       "Tim Kaine                                    30\n",
       "Donald Trump Jr.                             28\n",
       "ICYMI News                                   27\n",
       "Matt Gaetz                                   27\n",
       "Tina Smith                                   26\n",
       "Eric Trump                                   26\n",
       "Abigail Spanberger                           25\n",
       "=?utf-8?Q?Juli=C3=A1n_Castro?=               25\n",
       "Holcomb Crew                                 25\n",
       "Name: name, dtype: int64"
      ]
     },
     "execution_count": 62,
     "metadata": {},
     "output_type": "execute_result"
    }
   ],
   "source": [
    "df.name.value_counts().head(30)"
   ]
  },
  {
   "cell_type": "code",
   "execution_count": 61,
   "metadata": {},
   "outputs": [
    {
     "data": {
      "text/html": [
       "<div>\n",
       "<style scoped>\n",
       "    .dataframe tbody tr th:only-of-type {\n",
       "        vertical-align: middle;\n",
       "    }\n",
       "\n",
       "    .dataframe tbody tr th {\n",
       "        vertical-align: top;\n",
       "    }\n",
       "\n",
       "    .dataframe thead th {\n",
       "        text-align: right;\n",
       "    }\n",
       "</style>\n",
       "<table border=\"1\" class=\"dataframe\">\n",
       "  <thead>\n",
       "    <tr style=\"text-align: right;\">\n",
       "      <th></th>\n",
       "      <th>name</th>\n",
       "      <th>email</th>\n",
       "      <th>subject</th>\n",
       "      <th>datetime</th>\n",
       "      <th>year</th>\n",
       "      <th>month</th>\n",
       "      <th>day</th>\n",
       "      <th>hour</th>\n",
       "      <th>minute</th>\n",
       "      <th>domain</th>\n",
       "      <th>body</th>\n",
       "      <th>date</th>\n",
       "    </tr>\n",
       "  </thead>\n",
       "  <tbody>\n",
       "    <tr>\n",
       "      <th>14</th>\n",
       "      <td>The White House</td>\n",
       "      <td>info@mail.whitehouse.gov</td>\n",
       "      <td>Recovery, Relief, and Reaching New Heights</td>\n",
       "      <td>2017-10-06 19:58:33</td>\n",
       "      <td>2017.0</td>\n",
       "      <td>10.0</td>\n",
       "      <td>6.0</td>\n",
       "      <td>19.0</td>\n",
       "      <td>58.0</td>\n",
       "      <td>mail.whitehouse.gov</td>\n",
       "      <td>1600 Daily https://click.mail.whitehouse.gov/?...</td>\n",
       "      <td>2017-10-06</td>\n",
       "    </tr>\n",
       "    <tr>\n",
       "      <th>38</th>\n",
       "      <td>The White House</td>\n",
       "      <td>info@mail.whitehouse.gov</td>\n",
       "      <td>President Macron comes to Washington</td>\n",
       "      <td>2018-04-25 14:55:45</td>\n",
       "      <td>2018.0</td>\n",
       "      <td>4.0</td>\n",
       "      <td>25.0</td>\n",
       "      <td>14.0</td>\n",
       "      <td>55.0</td>\n",
       "      <td>mail.whitehouse.gov</td>\n",
       "      <td>1600 Daily https://click.mail.whitehouse.gov/?...</td>\n",
       "      <td>2018-04-25</td>\n",
       "    </tr>\n",
       "    <tr>\n",
       "      <th>2027</th>\n",
       "      <td>The White House</td>\n",
       "      <td>info@mail.whitehouse.gov</td>\n",
       "      <td>An Economy That Works For Hardworking Americans</td>\n",
       "      <td>2017-10-30 14:55:34</td>\n",
       "      <td>2017.0</td>\n",
       "      <td>10.0</td>\n",
       "      <td>30.0</td>\n",
       "      <td>14.0</td>\n",
       "      <td>55.0</td>\n",
       "      <td>mail.whitehouse.gov</td>\n",
       "      <td>1600 Daily https://click.mail.whitehouse.gov/?...</td>\n",
       "      <td>2017-10-30</td>\n",
       "    </tr>\n",
       "    <tr>\n",
       "      <th>3459</th>\n",
       "      <td>The White House</td>\n",
       "      <td>info@mail.whitehouse.gov</td>\n",
       "      <td>President Trump's Weekly Address: Repeal and R...</td>\n",
       "      <td>2017-03-11 14:09:45</td>\n",
       "      <td>2017.0</td>\n",
       "      <td>3.0</td>\n",
       "      <td>11.0</td>\n",
       "      <td>14.0</td>\n",
       "      <td>9.0</td>\n",
       "      <td>mail.whitehouse.gov</td>\n",
       "      <td>Watch President Trump's Weekly Address to the ...</td>\n",
       "      <td>2017-03-11</td>\n",
       "    </tr>\n",
       "    <tr>\n",
       "      <th>4440</th>\n",
       "      <td>The White House</td>\n",
       "      <td>info@mail.whitehouse.gov</td>\n",
       "      <td>Your 1600 Daily</td>\n",
       "      <td>2017-06-12 18:00:04</td>\n",
       "      <td>2017.0</td>\n",
       "      <td>6.0</td>\n",
       "      <td>12.0</td>\n",
       "      <td>18.0</td>\n",
       "      <td>0.0</td>\n",
       "      <td>mail.whitehouse.gov</td>\n",
       "      <td>1600 Daily Everything White House for 6/12/201...</td>\n",
       "      <td>2017-06-12</td>\n",
       "    </tr>\n",
       "    <tr>\n",
       "      <th>9907</th>\n",
       "      <td>The White House</td>\n",
       "      <td>info@mail.whitehouse.gov</td>\n",
       "      <td>An Executive Order on Faith and Opportunity</td>\n",
       "      <td>2018-05-04 15:25:37</td>\n",
       "      <td>2018.0</td>\n",
       "      <td>5.0</td>\n",
       "      <td>4.0</td>\n",
       "      <td>15.0</td>\n",
       "      <td>25.0</td>\n",
       "      <td>mail.whitehouse.gov</td>\n",
       "      <td>1600 Daily https://click.mail.whitehouse.gov/?...</td>\n",
       "      <td>2018-05-04</td>\n",
       "    </tr>\n",
       "  </tbody>\n",
       "</table>\n",
       "</div>"
      ],
      "text/plain": [
       "                 name                     email  \\\n",
       "14    The White House  info@mail.whitehouse.gov   \n",
       "38    The White House  info@mail.whitehouse.gov   \n",
       "2027  The White House  info@mail.whitehouse.gov   \n",
       "3459  The White House  info@mail.whitehouse.gov   \n",
       "4440  The White House  info@mail.whitehouse.gov   \n",
       "9907  The White House  info@mail.whitehouse.gov   \n",
       "\n",
       "                                                subject            datetime  \\\n",
       "14           Recovery, Relief, and Reaching New Heights 2017-10-06 19:58:33   \n",
       "38                 President Macron comes to Washington 2018-04-25 14:55:45   \n",
       "2027    An Economy That Works For Hardworking Americans 2017-10-30 14:55:34   \n",
       "3459  President Trump's Weekly Address: Repeal and R... 2017-03-11 14:09:45   \n",
       "4440                                    Your 1600 Daily 2017-06-12 18:00:04   \n",
       "9907        An Executive Order on Faith and Opportunity 2018-05-04 15:25:37   \n",
       "\n",
       "        year  month   day  hour  minute               domain  \\\n",
       "14    2017.0   10.0   6.0  19.0    58.0  mail.whitehouse.gov   \n",
       "38    2018.0    4.0  25.0  14.0    55.0  mail.whitehouse.gov   \n",
       "2027  2017.0   10.0  30.0  14.0    55.0  mail.whitehouse.gov   \n",
       "3459  2017.0    3.0  11.0  14.0     9.0  mail.whitehouse.gov   \n",
       "4440  2017.0    6.0  12.0  18.0     0.0  mail.whitehouse.gov   \n",
       "9907  2018.0    5.0   4.0  15.0    25.0  mail.whitehouse.gov   \n",
       "\n",
       "                                                   body        date  \n",
       "14    1600 Daily https://click.mail.whitehouse.gov/?...  2017-10-06  \n",
       "38    1600 Daily https://click.mail.whitehouse.gov/?...  2018-04-25  \n",
       "2027  1600 Daily https://click.mail.whitehouse.gov/?...  2017-10-30  \n",
       "3459  Watch President Trump's Weekly Address to the ...  2017-03-11  \n",
       "4440  1600 Daily Everything White House for 6/12/201...  2017-06-12  \n",
       "9907  1600 Daily https://click.mail.whitehouse.gov/?...  2018-05-04  "
      ]
     },
     "execution_count": 61,
     "metadata": {},
     "output_type": "execute_result"
    }
   ],
   "source": [
    "df[df.name.str.contains('White House') & df.body.str.contains('freedom', flags=re.IGNORECASE)]"
   ]
  },
  {
   "cell_type": "code",
   "execution_count": null,
   "metadata": {},
   "outputs": [],
   "source": []
  }
 ],
 "metadata": {
  "interpreter": {
   "hash": "82e67d65a17c621a0c8640b52c6b71328b4ac228f6ea312536263259236ac48d"
  },
  "kernelspec": {
   "display_name": "Python 3.9.5 64-bit ('base': conda)",
   "language": "python",
   "name": "python3"
  },
  "language_info": {
   "codemirror_mode": {
    "name": "ipython",
    "version": 3
   },
   "file_extension": ".py",
   "mimetype": "text/x-python",
   "name": "python",
   "nbconvert_exporter": "python",
   "pygments_lexer": "ipython3",
   "version": "3.10.2"
  },
  "orig_nbformat": 4
 },
 "nbformat": 4,
 "nbformat_minor": 2
}

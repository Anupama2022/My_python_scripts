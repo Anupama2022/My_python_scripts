{
 "cells": [
  {
   "cell_type": "code",
   "execution_count": 14,
   "metadata": {},
   "outputs": [],
   "source": [
    "# Let's set up the libraries\n",
    "\n",
    "import pandas as pd\n",
    "import seaborn as sns\n",
    "import re\n",
    "\n",
    "# Seaborn has a lot of cool \n",
    "sns.set_theme(style='darkgrid')"
   ]
  },
  {
   "cell_type": "code",
   "execution_count": 15,
   "metadata": {},
   "outputs": [],
   "source": [
    "# We are using a sample of the dataset. The full dataset is available here: https://political-emails.herokuapp.com, and was made by this person: https://twitter.com/derekwillis\n",
    "\n",
    "df = pd.read_csv(\"https://github.com/tiagofassoni/useful-datasets/raw/main/10k_political_emails.csv.xz\")\n",
    "df = df.dropna() # I don't have any patience today to deal with null values\n",
    "df = df.drop(columns='Unnamed: 0') # I made a mistake when exporting the CSV"
   ]
  },
  {
   "cell_type": "code",
   "execution_count": 16,
   "metadata": {},
   "outputs": [],
   "source": [
    "df = df.rename(columns={'date': 'datetime'})\n",
    "df['datetime'] = pd.to_datetime(df['datetime'])\n",
    "df['date'] = pd.to_datetime(df['datetime']).dt.date\n"
   ]
  },
  {
   "cell_type": "code",
   "execution_count": 17,
   "metadata": {},
   "outputs": [
    {
     "name": "stdout",
     "output_type": "stream",
     "text": [
      "<class 'pandas.core.frame.DataFrame'>\n",
      "Int64Index: 9941 entries, 0 to 9999\n",
      "Data columns (total 12 columns):\n",
      " #   Column    Non-Null Count  Dtype         \n",
      "---  ------    --------------  -----         \n",
      " 0   name      9941 non-null   object        \n",
      " 1   email     9941 non-null   object        \n",
      " 2   subject   9941 non-null   object        \n",
      " 3   datetime  9941 non-null   datetime64[ns]\n",
      " 4   year      9941 non-null   float64       \n",
      " 5   month     9941 non-null   float64       \n",
      " 6   day       9941 non-null   float64       \n",
      " 7   hour      9941 non-null   float64       \n",
      " 8   minute    9941 non-null   float64       \n",
      " 9   domain    9941 non-null   object        \n",
      " 10  body      9941 non-null   object        \n",
      " 11  date      9941 non-null   object        \n",
      "dtypes: datetime64[ns](1), float64(5), object(6)\n",
      "memory usage: 1009.6+ KB\n"
     ]
    }
   ],
   "source": [
    "df.info()"
   ]
  },
  {
   "cell_type": "markdown",
   "metadata": {},
   "source": [
    "### Let's check how many emails per day"
   ]
  },
  {
   "cell_type": "code",
   "execution_count": 18,
   "metadata": {},
   "outputs": [
    {
     "data": {
      "text/plain": [
       "<AxesSubplot:>"
      ]
     },
     "execution_count": 18,
     "metadata": {},
     "output_type": "execute_result"
    },
    {
     "data": {
      "image/png": "[encoded data removed]",
      "text/plain": [
       "<Figure size 432x288 with 1 Axes>"
      ]
     },
     "metadata": {},
     "output_type": "display_data"
    }
   ],
   "source": [
    "df.date.value_counts().sort_index().plot()"
   ]
  },
  {
   "cell_type": "code",
   "execution_count": 19,
   "metadata": {},
   "outputs": [
    {
     "data": {
      "text/html": [
       "<div>\n",
       "<style scoped>\n",
       "    .dataframe tbody tr th:only-of-type {\n",
       "        vertical-align: middle;\n",
       "    }\n",
       "\n",
       "    .dataframe tbody tr th {\n",
       "        vertical-align: top;\n",
       "    }\n",
       "\n",
       "    .dataframe thead th {\n",
       "        text-align: right;\n",
       "    }\n",
       "</style>\n",
       "<table border=\"1\" class=\"dataframe\">\n",
       "  <thead>\n",
       "    <tr style=\"text-align: right;\">\n",
       "      <th></th>\n",
       "      <th>name</th>\n",
       "      <th>email</th>\n",
       "      <th>subject</th>\n",
       "      <th>datetime</th>\n",
       "      <th>year</th>\n",
       "      <th>month</th>\n",
       "      <th>day</th>\n",
       "      <th>hour</th>\n",
       "      <th>minute</th>\n",
       "      <th>domain</th>\n",
       "      <th>body</th>\n",
       "      <th>date</th>\n",
       "    </tr>\n",
       "  </thead>\n",
       "  <tbody>\n",
       "    <tr>\n",
       "      <th>0</th>\n",
       "      <td>Ronny Jackson</td>\n",
       "      <td>action@standupforliberty.net</td>\n",
       "      <td>I’m terrified of the Democrat Agenda</td>\n",
       "      <td>2020-12-27 20:35:38</td>\n",
       "      <td>2020.0</td>\n",
       "      <td>12.0</td>\n",
       "      <td>27.0</td>\n",
       "      <td>20.0</td>\n",
       "      <td>35.0</td>\n",
       "      <td>standupforliberty.net</td>\n",
       "      <td>It will destroy our nation.‌ ‌ ‌ ‌ ‌ ‌ ‌ ‌ ‌ ‌...</td>\n",
       "      <td>2020-12-27</td>\n",
       "    </tr>\n",
       "    <tr>\n",
       "      <th>1</th>\n",
       "      <td>Scott Fitzgerald</td>\n",
       "      <td>staff@scottfitzgeraldforcongress.com</td>\n",
       "      <td>Victory in the Supreme Court!</td>\n",
       "      <td>2020-05-14 01:44:02</td>\n",
       "      <td>2020.0</td>\n",
       "      <td>5.0</td>\n",
       "      <td>14.0</td>\n",
       "      <td>1.0</td>\n",
       "      <td>44.0</td>\n",
       "      <td>scottfitzgeraldforcongress.com</td>\n",
       "      <td>One step closer to getting Wisconsin back open...</td>\n",
       "      <td>2020-05-14</td>\n",
       "    </tr>\n",
       "    <tr>\n",
       "      <th>2</th>\n",
       "      <td>Team Scheller</td>\n",
       "      <td>info@schellerforcongress.com</td>\n",
       "      <td>Test🚨Lisa in the News!🚨</td>\n",
       "      <td>2021-08-06 23:08:49</td>\n",
       "      <td>2021.0</td>\n",
       "      <td>8.0</td>\n",
       "      <td>6.0</td>\n",
       "      <td>23.0</td>\n",
       "      <td>8.0</td>\n",
       "      <td>schellerforcongress.com</td>\n",
       "      <td>For House Republicans, their path back to powe...</td>\n",
       "      <td>2021-08-06</td>\n",
       "    </tr>\n",
       "    <tr>\n",
       "      <th>3</th>\n",
       "      <td>Sandy Smith</td>\n",
       "      <td>sandy1@sandysmithnc.com</td>\n",
       "      <td>Hey Fake News media - ALL LIVES MATTER!</td>\n",
       "      <td>2020-08-17 14:05:29</td>\n",
       "      <td>2020.0</td>\n",
       "      <td>8.0</td>\n",
       "      <td>17.0</td>\n",
       "      <td>14.0</td>\n",
       "      <td>5.0</td>\n",
       "      <td>sandysmithnc.com</td>\n",
       "      <td>https://clicks.aweber.com/y/ct/?l=InYvV&amp;m=g5Px...</td>\n",
       "      <td>2020-08-17</td>\n",
       "    </tr>\n",
       "    <tr>\n",
       "      <th>4</th>\n",
       "      <td>State Republicans HQ</td>\n",
       "      <td>action@standupforliberty.net</td>\n",
       "      <td>Help State Republicans hold the line and get 4...</td>\n",
       "      <td>2021-01-23 20:05:30</td>\n",
       "      <td>2021.0</td>\n",
       "      <td>1.0</td>\n",
       "      <td>23.0</td>\n",
       "      <td>20.0</td>\n",
       "      <td>5.0</td>\n",
       "      <td>standupforliberty.net</td>\n",
       "      <td>We can’t let Joe Biden’s leftist agenda tsunam...</td>\n",
       "      <td>2021-01-23</td>\n",
       "    </tr>\n",
       "    <tr>\n",
       "      <th>...</th>\n",
       "      <td>...</td>\n",
       "      <td>...</td>\n",
       "      <td>...</td>\n",
       "      <td>...</td>\n",
       "      <td>...</td>\n",
       "      <td>...</td>\n",
       "      <td>...</td>\n",
       "      <td>...</td>\n",
       "      <td>...</td>\n",
       "      <td>...</td>\n",
       "      <td>...</td>\n",
       "      <td>...</td>\n",
       "    </tr>\n",
       "    <tr>\n",
       "      <th>9995</th>\n",
       "      <td>When Democrats Turn Out</td>\n",
       "      <td>info@whendemocratsturnout.com</td>\n",
       "      <td>Adam Schiff: \"If the truth doesn't matter, we'...</td>\n",
       "      <td>2020-01-26 01:39:29</td>\n",
       "      <td>2020.0</td>\n",
       "      <td>1.0</td>\n",
       "      <td>26.0</td>\n",
       "      <td>1.0</td>\n",
       "      <td>39.0</td>\n",
       "      <td>whendemocratsturnout.com</td>\n",
       "      <td>\"If the truth doesn't matter, we're lost. \"Fra...</td>\n",
       "      <td>2020-01-26</td>\n",
       "    </tr>\n",
       "    <tr>\n",
       "      <th>9996</th>\n",
       "      <td>=?utf-8?Q?=E2=9A=A0_UPDATE_=7C_WolfForPa=2Ecom?=</td>\n",
       "      <td>info@wolfforpa.com</td>\n",
       "      <td>can this be right?</td>\n",
       "      <td>2018-06-13 22:49:49</td>\n",
       "      <td>2018.0</td>\n",
       "      <td>6.0</td>\n",
       "      <td>13.0</td>\n",
       "      <td>22.0</td>\n",
       "      <td>49.0</td>\n",
       "      <td>wolfforpa.com</td>\n",
       "      <td>Last night we told you we were facing an uphil...</td>\n",
       "      <td>2018-06-13</td>\n",
       "    </tr>\n",
       "    <tr>\n",
       "      <th>9997</th>\n",
       "      <td>Hillary Clinton</td>\n",
       "      <td>info@hillaryclinton.com</td>\n",
       "      <td>Two challenges</td>\n",
       "      <td>2016-03-30 17:11:42</td>\n",
       "      <td>2016.0</td>\n",
       "      <td>3.0</td>\n",
       "      <td>30.0</td>\n",
       "      <td>17.0</td>\n",
       "      <td>11.0</td>\n",
       "      <td>hillaryclinton.com</td>\n",
       "      <td>Friend -- We’re heading into one of the toughe...</td>\n",
       "      <td>2016-03-30</td>\n",
       "    </tr>\n",
       "    <tr>\n",
       "      <th>9998</th>\n",
       "      <td>=?utf-8?Q?Joe=20Kent?=</td>\n",
       "      <td>info@joekentforcongress.com</td>\n",
       "      <td>Trump Endorsed Me</td>\n",
       "      <td>2021-09-02 02:00:29</td>\n",
       "      <td>2021.0</td>\n",
       "      <td>9.0</td>\n",
       "      <td>2.0</td>\n",
       "      <td>2.0</td>\n",
       "      <td>0.0</td>\n",
       "      <td>joekentforcongress.com</td>\n",
       "      <td>Dear Fellow Patriot, Today I was endorsed by P...</td>\n",
       "      <td>2021-09-02</td>\n",
       "    </tr>\n",
       "    <tr>\n",
       "      <th>9999</th>\n",
       "      <td>Senator Kelly Loeffler</td>\n",
       "      <td>info@republicandailywire.com</td>\n",
       "      <td>Mike Pence Georgia Rally Alert</td>\n",
       "      <td>2020-11-20 16:59:44</td>\n",
       "      <td>2020.0</td>\n",
       "      <td>11.0</td>\n",
       "      <td>20.0</td>\n",
       "      <td>16.0</td>\n",
       "      <td>59.0</td>\n",
       "      <td>republicandailywire.com</td>\n",
       "      <td>Finish This For President Trump I'm happy to s...</td>\n",
       "      <td>2020-11-20</td>\n",
       "    </tr>\n",
       "  </tbody>\n",
       "</table>\n",
       "<p>9941 rows × 12 columns</p>\n",
       "</div>"
      ],
      "text/plain": [
       "                                                  name  \\\n",
       "0                                        Ronny Jackson   \n",
       "1                                     Scott Fitzgerald   \n",
       "2                                        Team Scheller   \n",
       "3                                          Sandy Smith   \n",
       "4                                 State Republicans HQ   \n",
       "...                                                ...   \n",
       "9995                           When Democrats Turn Out   \n",
       "9996  =?utf-8?Q?=E2=9A=A0_UPDATE_=7C_WolfForPa=2Ecom?=   \n",
       "9997                                   Hillary Clinton   \n",
       "9998                            =?utf-8?Q?Joe=20Kent?=   \n",
       "9999                            Senator Kelly Loeffler   \n",
       "\n",
       "                                     email  \\\n",
       "0             action@standupforliberty.net   \n",
       "1     staff@scottfitzgeraldforcongress.com   \n",
       "2             info@schellerforcongress.com   \n",
       "3                  sandy1@sandysmithnc.com   \n",
       "4             action@standupforliberty.net   \n",
       "...                                    ...   \n",
       "9995         info@whendemocratsturnout.com   \n",
       "9996                    info@wolfforpa.com   \n",
       "9997               info@hillaryclinton.com   \n",
       "9998           info@joekentforcongress.com   \n",
       "9999          info@republicandailywire.com   \n",
       "\n",
       "                                                subject            datetime  \\\n",
       "0                  I’m terrified of the Democrat Agenda 2020-12-27 20:35:38   \n",
       "1                         Victory in the Supreme Court! 2020-05-14 01:44:02   \n",
       "2                               Test🚨Lisa in the News!🚨 2021-08-06 23:08:49   \n",
       "3               Hey Fake News media - ALL LIVES MATTER! 2020-08-17 14:05:29   \n",
       "4     Help State Republicans hold the line and get 4... 2021-01-23 20:05:30   \n",
       "...                                                 ...                 ...   \n",
       "9995  Adam Schiff: \"If the truth doesn't matter, we'... 2020-01-26 01:39:29   \n",
       "9996                                 can this be right? 2018-06-13 22:49:49   \n",
       "9997                                     Two challenges 2016-03-30 17:11:42   \n",
       "9998                                  Trump Endorsed Me 2021-09-02 02:00:29   \n",
       "9999                     Mike Pence Georgia Rally Alert 2020-11-20 16:59:44   \n",
       "\n",
       "        year  month   day  hour  minute                          domain  \\\n",
       "0     2020.0   12.0  27.0  20.0    35.0           standupforliberty.net   \n",
       "1     2020.0    5.0  14.0   1.0    44.0  scottfitzgeraldforcongress.com   \n",
       "2     2021.0    8.0   6.0  23.0     8.0         schellerforcongress.com   \n",
       "3     2020.0    8.0  17.0  14.0     5.0                sandysmithnc.com   \n",
       "4     2021.0    1.0  23.0  20.0     5.0           standupforliberty.net   \n",
       "...      ...    ...   ...   ...     ...                             ...   \n",
       "9995  2020.0    1.0  26.0   1.0    39.0        whendemocratsturnout.com   \n",
       "9996  2018.0    6.0  13.0  22.0    49.0                   wolfforpa.com   \n",
       "9997  2016.0    3.0  30.0  17.0    11.0              hillaryclinton.com   \n",
       "9998  2021.0    9.0   2.0   2.0     0.0          joekentforcongress.com   \n",
       "9999  2020.0   11.0  20.0  16.0    59.0         republicandailywire.com   \n",
       "\n",
       "                                                   body        date  \n",
       "0     It will destroy our nation.‌ ‌ ‌ ‌ ‌ ‌ ‌ ‌ ‌ ‌...  2020-12-27  \n",
       "1     One step closer to getting Wisconsin back open...  2020-05-14  \n",
       "2     For House Republicans, their path back to powe...  2021-08-06  \n",
       "3     https://clicks.aweber.com/y/ct/?l=InYvV&m=g5Px...  2020-08-17  \n",
       "4     We can’t let Joe Biden’s leftist agenda tsunam...  2021-01-23  \n",
       "...                                                 ...         ...  \n",
       "9995  \"If the truth doesn't matter, we're lost. \"Fra...  2020-01-26  \n",
       "9996  Last night we told you we were facing an uphil...  2018-06-13  \n",
       "9997  Friend -- We’re heading into one of the toughe...  2016-03-30  \n",
       "9998  Dear Fellow Patriot, Today I was endorsed by P...  2021-09-02  \n",
       "9999  Finish This For President Trump I'm happy to s...  2020-11-20  \n",
       "\n",
       "[9941 rows x 12 columns]"
      ]
     },
     "execution_count": 19,
     "metadata": {},
     "output_type": "execute_result"
    }
   ],
   "source": [
    "df"
   ]
  },
  {
   "cell_type": "markdown",
   "metadata": {},
   "source": [
    "### Let's check how many emails per year and month"
   ]
  },
  {
   "cell_type": "markdown",
   "metadata": {},
   "source": []
  },
  {
   "cell_type": "code",
   "execution_count": 23,
   "metadata": {},
   "outputs": [
    {
     "data": {
      "text/plain": [
       "<AxesSubplot:xlabel='year,month'>"
      ]
     },
     "execution_count": 23,
     "metadata": {},
     "output_type": "execute_result"
    },
    {
     "data": {
      "image/png": "[encoded data removed]",
      "text/plain": [
       "<Figure size 432x288 with 1 Axes>"
      ]
     },
     "metadata": {},
     "output_type": "display_data"
    }
   ],
   "source": [
    "df.groupby(['year','month']).size().plot()\n",
    "#sns.scatterplot(data=df, x='year', y='email')\n"
   ]
  },
  {
   "cell_type": "markdown",
   "metadata": {},
   "source": [
    " Let's create a function that, given a row, returns `Yup, has Freedom` if:\n",
    " 1) `name` contains `White House`\n",
    " 2) `body` contains or `freedom`\n",
    "\n",
    " and returns `Fake News` if:\n",
    " 1) `subject` or `email` contains `Fake News` (case-insensitive)"
   ]
  },
  {
   "cell_type": "code",
   "execution_count": 12,
   "metadata": {},
   "outputs": [
    {
     "name": "stdout",
     "output_type": "stream",
     "text": [
      "Collecting ftfy\n",
      "  Downloading ftfy-6.0.3.tar.gz (64 kB)\n",
      "Requirement already satisfied: wcwidth in c:\\users\\ajith\\anaconda3\\lib\\site-packages (from ftfy) (0.2.5)\n",
      "Building wheels for collected packages: ftfy\n",
      "  Building wheel for ftfy (setup.py): started\n",
      "  Building wheel for ftfy (setup.py): finished with status 'done'\n",
      "  Created wheel for ftfy: filename=ftfy-6.0.3-py3-none-any.whl size=41933 sha256=3392e1ffa9a0ece684bb4b7d8a16ca499ef5642946523edbcca5fa4fb2837de4\n",
      "  Stored in directory: c:\\users\\ajith\\appdata\\local\\pip\\cache\\wheels\\3d\\ee\\4b\\03a4e2e591ea56687aff999edc83827a2ace523baab75b8e41\n",
      "Successfully built ftfy\n",
      "Installing collected packages: ftfy\n",
      "Successfully installed ftfy-6.0.3\n"
     ]
    }
   ],
   "source": [
    "!pip install ftfy"
   ]
  },
  {
   "cell_type": "code",
   "execution_count": 62,
   "metadata": {},
   "outputs": [
    {
     "data": {
      "text/plain": [
       "Donald J. Trump                             144\n",
       "=?utf-8?Q?The=20White=20House?=              91\n",
       "DonaldJTrump.com                             89\n",
       "Trump News HQ                                73\n",
       "When Democrats Turn Out                      58\n",
       "EMILY's List                                 58\n",
       "Herschel Walker                              56\n",
       "Rand Paul                                    55\n",
       "GOP Presidential                             53\n",
       "Nancy Pelosi                                 50\n",
       "Terry McAuliffe                              44\n",
       "American Update                              43\n",
       "Marco Rubio                                  40\n",
       "HillaryClinton.com                           39\n",
       "The White House                              38\n",
       "=?utf-8?Q?Indiana=20Republican=20Party?=     37\n",
       "American Defense News                        35\n",
       "Self Reliance Central                        34\n",
       "Laura Loomer                                 32\n",
       "Elizabeth Warren                             32\n",
       "Jay Inslee                                   31\n",
       "Tim Kaine                                    30\n",
       "Donald Trump Jr.                             28\n",
       "ICYMI News                                   27\n",
       "Matt Gaetz                                   27\n",
       "Tina Smith                                   26\n",
       "Eric Trump                                   26\n",
       "Abigail Spanberger                           25\n",
       "=?utf-8?Q?Juli=C3=A1n_Castro?=               25\n",
       "Holcomb Crew                                 25\n",
       "Name: name, dtype: int64"
      ]
     },
     "execution_count": 62,
     "metadata": {},
     "output_type": "execute_result"
    }
   ],
   "source": [
    "df.name.value_counts().head(30)"
   ]
  },
  {
   "cell_type": "code",
   "execution_count": 28,
   "metadata": {},
   "outputs": [],
   "source": [
    "def number_of_words(some_text):\n",
    "      return len(some_text.split(\" \"))\n",
    "  "
   ]
  },
  {
   "cell_type": "code",
   "execution_count": 34,
   "metadata": {},
   "outputs": [
    {
     "data": {
      "text/plain": [
       "6"
      ]
     },
     "execution_count": 34,
     "metadata": {},
     "output_type": "execute_result"
    }
   ],
   "source": [
    "number_of_words(df.subject.iloc[0])\n"
   ]
  },
  {
   "cell_type": "code",
   "execution_count": 31,
   "metadata": {},
   "outputs": [
    {
     "data": {
      "text/plain": [
       "5     1495\n",
       "4     1487\n",
       "3     1306\n",
       "6     1239\n",
       "7      997\n",
       "2      846\n",
       "8      715\n",
       "9      489\n",
       "10     334\n",
       "1      326\n",
       "11     208\n",
       "12     140\n",
       "13      97\n",
       "14      63\n",
       "15      42\n",
       "16      35\n",
       "17      21\n",
       "19      15\n",
       "20      10\n",
       "22      10\n",
       "18      10\n",
       "21       8\n",
       "23       7\n",
       "27       6\n",
       "32       5\n",
       "26       5\n",
       "29       4\n",
       "24       4\n",
       "31       2\n",
       "34       2\n",
       "35       2\n",
       "38       2\n",
       "25       2\n",
       "37       2\n",
       "41       1\n",
       "36       1\n",
       "43       1\n",
       "44       1\n",
       "30       1\n",
       "Name: subject, dtype: int64"
      ]
     },
     "execution_count": 31,
     "metadata": {},
     "output_type": "execute_result"
    }
   ],
   "source": [
    "df.subject.apply(number_of_words).value_counts()"
   ]
  },
  {
   "cell_type": "code",
   "execution_count": 53,
   "metadata": {},
   "outputs": [],
   "source": [
    "def new_function(row):\n",
    "    if \"Fake news\" in row['subject'] or \"Fake news\" in row['email']:\n",
    "        return 'Fake news'\n",
    "    elif \"White House\" in row['name'] and \"Freedom\" in row['body']:\n",
    "        return 'Yup, had Freedom'\n",
    "    else:\n",
    "        return 'We dont know!'"
   ]
  },
  {
   "cell_type": "code",
   "execution_count": 56,
   "metadata": {},
   "outputs": [
    {
     "data": {
      "text/plain": [
       "not a Fake news     9940\n",
       "Yup, had Freedom       1\n",
       "dtype: int64"
      ]
     },
     "execution_count": 56,
     "metadata": {},
     "output_type": "execute_result"
    }
   ],
   "source": [
    "\n",
    "df.apply(new_function, axis ='columns').value_counts()"
   ]
  },
  {
   "cell_type": "code",
   "execution_count": 49,
   "metadata": {},
   "outputs": [
    {
     "ename": "TypeError",
     "evalue": "string indices must be integers",
     "output_type": "error",
     "traceback": [
      "\u001b[1;31m---------------------------------------------------------------------------\u001b[0m",
      "\u001b[1;31mTypeError\u001b[0m                                 Traceback (most recent call last)",
      "\u001b[1;32m~\\AppData\\Local\\Temp/ipykernel_9256/1809036223.py\u001b[0m in \u001b[0;36m<module>\u001b[1;34m\u001b[0m\n\u001b[1;32m----> 1\u001b[1;33m \u001b[0mdf\u001b[0m\u001b[1;33m.\u001b[0m\u001b[0mname\u001b[0m\u001b[1;33m.\u001b[0m\u001b[0mapply\u001b[0m\u001b[1;33m(\u001b[0m\u001b[0mnew_function\u001b[0m\u001b[1;33m)\u001b[0m\u001b[1;33m.\u001b[0m\u001b[0mvalue_counts\u001b[0m\u001b[1;33m(\u001b[0m\u001b[1;33m)\u001b[0m\u001b[1;33m\u001b[0m\u001b[1;33m\u001b[0m\u001b[0m\n\u001b[0m",
      "\u001b[1;32m~\\anaconda3\\lib\\site-packages\\pandas\\core\\series.py\u001b[0m in \u001b[0;36mapply\u001b[1;34m(self, func, convert_dtype, args, **kwargs)\u001b[0m\n\u001b[0;32m   4355\u001b[0m         \u001b[0mdtype\u001b[0m\u001b[1;33m:\u001b[0m \u001b[0mfloat64\u001b[0m\u001b[1;33m\u001b[0m\u001b[1;33m\u001b[0m\u001b[0m\n\u001b[0;32m   4356\u001b[0m         \"\"\"\n\u001b[1;32m-> 4357\u001b[1;33m         \u001b[1;32mreturn\u001b[0m \u001b[0mSeriesApply\u001b[0m\u001b[1;33m(\u001b[0m\u001b[0mself\u001b[0m\u001b[1;33m,\u001b[0m \u001b[0mfunc\u001b[0m\u001b[1;33m,\u001b[0m \u001b[0mconvert_dtype\u001b[0m\u001b[1;33m,\u001b[0m \u001b[0margs\u001b[0m\u001b[1;33m,\u001b[0m \u001b[0mkwargs\u001b[0m\u001b[1;33m)\u001b[0m\u001b[1;33m.\u001b[0m\u001b[0mapply\u001b[0m\u001b[1;33m(\u001b[0m\u001b[1;33m)\u001b[0m\u001b[1;33m\u001b[0m\u001b[1;33m\u001b[0m\u001b[0m\n\u001b[0m\u001b[0;32m   4358\u001b[0m \u001b[1;33m\u001b[0m\u001b[0m\n\u001b[0;32m   4359\u001b[0m     def _reduce(\n",
      "\u001b[1;32m~\\anaconda3\\lib\\site-packages\\pandas\\core\\apply.py\u001b[0m in \u001b[0;36mapply\u001b[1;34m(self)\u001b[0m\n\u001b[0;32m   1041\u001b[0m             \u001b[1;32mreturn\u001b[0m \u001b[0mself\u001b[0m\u001b[1;33m.\u001b[0m\u001b[0mapply_str\u001b[0m\u001b[1;33m(\u001b[0m\u001b[1;33m)\u001b[0m\u001b[1;33m\u001b[0m\u001b[1;33m\u001b[0m\u001b[0m\n\u001b[0;32m   1042\u001b[0m \u001b[1;33m\u001b[0m\u001b[0m\n\u001b[1;32m-> 1043\u001b[1;33m         \u001b[1;32mreturn\u001b[0m \u001b[0mself\u001b[0m\u001b[1;33m.\u001b[0m\u001b[0mapply_standard\u001b[0m\u001b[1;33m(\u001b[0m\u001b[1;33m)\u001b[0m\u001b[1;33m\u001b[0m\u001b[1;33m\u001b[0m\u001b[0m\n\u001b[0m\u001b[0;32m   1044\u001b[0m \u001b[1;33m\u001b[0m\u001b[0m\n\u001b[0;32m   1045\u001b[0m     \u001b[1;32mdef\u001b[0m \u001b[0magg\u001b[0m\u001b[1;33m(\u001b[0m\u001b[0mself\u001b[0m\u001b[1;33m)\u001b[0m\u001b[1;33m:\u001b[0m\u001b[1;33m\u001b[0m\u001b[1;33m\u001b[0m\u001b[0m\n",
      "\u001b[1;32m~\\anaconda3\\lib\\site-packages\\pandas\\core\\apply.py\u001b[0m in \u001b[0;36mapply_standard\u001b[1;34m(self)\u001b[0m\n\u001b[0;32m   1096\u001b[0m                 \u001b[1;31m# List[Union[Callable[..., Any], str]]]]]\"; expected\u001b[0m\u001b[1;33m\u001b[0m\u001b[1;33m\u001b[0m\u001b[0m\n\u001b[0;32m   1097\u001b[0m                 \u001b[1;31m# \"Callable[[Any], Any]\"\u001b[0m\u001b[1;33m\u001b[0m\u001b[1;33m\u001b[0m\u001b[0m\n\u001b[1;32m-> 1098\u001b[1;33m                 mapped = lib.map_infer(\n\u001b[0m\u001b[0;32m   1099\u001b[0m                     \u001b[0mvalues\u001b[0m\u001b[1;33m,\u001b[0m\u001b[1;33m\u001b[0m\u001b[1;33m\u001b[0m\u001b[0m\n\u001b[0;32m   1100\u001b[0m                     \u001b[0mf\u001b[0m\u001b[1;33m,\u001b[0m  \u001b[1;31m# type: ignore[arg-type]\u001b[0m\u001b[1;33m\u001b[0m\u001b[1;33m\u001b[0m\u001b[0m\n",
      "\u001b[1;32m~\\anaconda3\\lib\\site-packages\\pandas\\_libs\\lib.pyx\u001b[0m in \u001b[0;36mpandas._libs.lib.map_infer\u001b[1;34m()\u001b[0m\n",
      "\u001b[1;32m~\\AppData\\Local\\Temp/ipykernel_9256/761135195.py\u001b[0m in \u001b[0;36mnew_function\u001b[1;34m(row)\u001b[0m\n\u001b[0;32m      1\u001b[0m \u001b[1;32mdef\u001b[0m \u001b[0mnew_function\u001b[0m\u001b[1;33m(\u001b[0m\u001b[0mrow\u001b[0m\u001b[1;33m)\u001b[0m\u001b[1;33m:\u001b[0m\u001b[1;33m\u001b[0m\u001b[1;33m\u001b[0m\u001b[0m\n\u001b[1;32m----> 2\u001b[1;33m     \u001b[1;32mif\u001b[0m \u001b[1;34m\"White House\"\u001b[0m \u001b[1;32min\u001b[0m \u001b[0mrow\u001b[0m\u001b[1;33m[\u001b[0m\u001b[1;34m'name'\u001b[0m\u001b[1;33m]\u001b[0m \u001b[1;32mor\u001b[0m \u001b[1;34m\"freedom\"\u001b[0m \u001b[1;32min\u001b[0m \u001b[0mrow\u001b[0m\u001b[1;33m[\u001b[0m\u001b[1;34m'body'\u001b[0m\u001b[1;33m]\u001b[0m\u001b[1;33m:\u001b[0m\u001b[1;33m\u001b[0m\u001b[1;33m\u001b[0m\u001b[0m\n\u001b[0m\u001b[0;32m      3\u001b[0m         \u001b[1;32mreturn\u001b[0m \u001b[1;34m'Yup, has freedom'\u001b[0m\u001b[1;33m\u001b[0m\u001b[1;33m\u001b[0m\u001b[0m\n\u001b[0;32m      4\u001b[0m     \u001b[1;32melse\u001b[0m\u001b[1;33m:\u001b[0m\u001b[1;33m\u001b[0m\u001b[1;33m\u001b[0m\u001b[0m\n\u001b[0;32m      5\u001b[0m         \u001b[1;32mreturn\u001b[0m \u001b[1;34m'Fake News'\u001b[0m\u001b[1;33m\u001b[0m\u001b[1;33m\u001b[0m\u001b[0m\n",
      "\u001b[1;31mTypeError\u001b[0m: string indices must be integers"
     ]
    }
   ],
   "source": []
  },
  {
   "cell_type": "code",
   "execution_count": 61,
   "metadata": {},
   "outputs": [
    {
     "data": {
      "text/html": [
       "<div>\n",
       "<style scoped>\n",
       "    .dataframe tbody tr th:only-of-type {\n",
       "        vertical-align: middle;\n",
       "    }\n",
       "\n",
       "    .dataframe tbody tr th {\n",
       "        vertical-align: top;\n",
       "    }\n",
       "\n",
       "    .dataframe thead th {\n",
       "        text-align: right;\n",
       "    }\n",
       "</style>\n",
       "<table border=\"1\" class=\"dataframe\">\n",
       "  <thead>\n",
       "    <tr style=\"text-align: right;\">\n",
       "      <th></th>\n",
       "      <th>name</th>\n",
       "      <th>email</th>\n",
       "      <th>subject</th>\n",
       "      <th>datetime</th>\n",
       "      <th>year</th>\n",
       "      <th>month</th>\n",
       "      <th>day</th>\n",
       "      <th>hour</th>\n",
       "      <th>minute</th>\n",
       "      <th>domain</th>\n",
       "      <th>body</th>\n",
       "      <th>date</th>\n",
       "    </tr>\n",
       "  </thead>\n",
       "  <tbody>\n",
       "    <tr>\n",
       "      <th>14</th>\n",
       "      <td>The White House</td>\n",
       "      <td>info@mail.whitehouse.gov</td>\n",
       "      <td>Recovery, Relief, and Reaching New Heights</td>\n",
       "      <td>2017-10-06 19:58:33</td>\n",
       "      <td>2017.0</td>\n",
       "      <td>10.0</td>\n",
       "      <td>6.0</td>\n",
       "      <td>19.0</td>\n",
       "      <td>58.0</td>\n",
       "      <td>mail.whitehouse.gov</td>\n",
       "      <td>1600 Daily https://click.mail.whitehouse.gov/?...</td>\n",
       "      <td>2017-10-06</td>\n",
       "    </tr>\n",
       "    <tr>\n",
       "      <th>38</th>\n",
       "      <td>The White House</td>\n",
       "      <td>info@mail.whitehouse.gov</td>\n",
       "      <td>President Macron comes to Washington</td>\n",
       "      <td>2018-04-25 14:55:45</td>\n",
       "      <td>2018.0</td>\n",
       "      <td>4.0</td>\n",
       "      <td>25.0</td>\n",
       "      <td>14.0</td>\n",
       "      <td>55.0</td>\n",
       "      <td>mail.whitehouse.gov</td>\n",
       "      <td>1600 Daily https://click.mail.whitehouse.gov/?...</td>\n",
       "      <td>2018-04-25</td>\n",
       "    </tr>\n",
       "    <tr>\n",
       "      <th>2027</th>\n",
       "      <td>The White House</td>\n",
       "      <td>info@mail.whitehouse.gov</td>\n",
       "      <td>An Economy That Works For Hardworking Americans</td>\n",
       "      <td>2017-10-30 14:55:34</td>\n",
       "      <td>2017.0</td>\n",
       "      <td>10.0</td>\n",
       "      <td>30.0</td>\n",
       "      <td>14.0</td>\n",
       "      <td>55.0</td>\n",
       "      <td>mail.whitehouse.gov</td>\n",
       "      <td>1600 Daily https://click.mail.whitehouse.gov/?...</td>\n",
       "      <td>2017-10-30</td>\n",
       "    </tr>\n",
       "    <tr>\n",
       "      <th>3459</th>\n",
       "      <td>The White House</td>\n",
       "      <td>info@mail.whitehouse.gov</td>\n",
       "      <td>President Trump's Weekly Address: Repeal and R...</td>\n",
       "      <td>2017-03-11 14:09:45</td>\n",
       "      <td>2017.0</td>\n",
       "      <td>3.0</td>\n",
       "      <td>11.0</td>\n",
       "      <td>14.0</td>\n",
       "      <td>9.0</td>\n",
       "      <td>mail.whitehouse.gov</td>\n",
       "      <td>Watch President Trump's Weekly Address to the ...</td>\n",
       "      <td>2017-03-11</td>\n",
       "    </tr>\n",
       "    <tr>\n",
       "      <th>4440</th>\n",
       "      <td>The White House</td>\n",
       "      <td>info@mail.whitehouse.gov</td>\n",
       "      <td>Your 1600 Daily</td>\n",
       "      <td>2017-06-12 18:00:04</td>\n",
       "      <td>2017.0</td>\n",
       "      <td>6.0</td>\n",
       "      <td>12.0</td>\n",
       "      <td>18.0</td>\n",
       "      <td>0.0</td>\n",
       "      <td>mail.whitehouse.gov</td>\n",
       "      <td>1600 Daily Everything White House for 6/12/201...</td>\n",
       "      <td>2017-06-12</td>\n",
       "    </tr>\n",
       "    <tr>\n",
       "      <th>9907</th>\n",
       "      <td>The White House</td>\n",
       "      <td>info@mail.whitehouse.gov</td>\n",
       "      <td>An Executive Order on Faith and Opportunity</td>\n",
       "      <td>2018-05-04 15:25:37</td>\n",
       "      <td>2018.0</td>\n",
       "      <td>5.0</td>\n",
       "      <td>4.0</td>\n",
       "      <td>15.0</td>\n",
       "      <td>25.0</td>\n",
       "      <td>mail.whitehouse.gov</td>\n",
       "      <td>1600 Daily https://click.mail.whitehouse.gov/?...</td>\n",
       "      <td>2018-05-04</td>\n",
       "    </tr>\n",
       "  </tbody>\n",
       "</table>\n",
       "</div>"
      ],
      "text/plain": [
       "                 name                     email  \\\n",
       "14    The White House  info@mail.whitehouse.gov   \n",
       "38    The White House  info@mail.whitehouse.gov   \n",
       "2027  The White House  info@mail.whitehouse.gov   \n",
       "3459  The White House  info@mail.whitehouse.gov   \n",
       "4440  The White House  info@mail.whitehouse.gov   \n",
       "9907  The White House  info@mail.whitehouse.gov   \n",
       "\n",
       "                                                subject            datetime  \\\n",
       "14           Recovery, Relief, and Reaching New Heights 2017-10-06 19:58:33   \n",
       "38                 President Macron comes to Washington 2018-04-25 14:55:45   \n",
       "2027    An Economy That Works For Hardworking Americans 2017-10-30 14:55:34   \n",
       "3459  President Trump's Weekly Address: Repeal and R... 2017-03-11 14:09:45   \n",
       "4440                                    Your 1600 Daily 2017-06-12 18:00:04   \n",
       "9907        An Executive Order on Faith and Opportunity 2018-05-04 15:25:37   \n",
       "\n",
       "        year  month   day  hour  minute               domain  \\\n",
       "14    2017.0   10.0   6.0  19.0    58.0  mail.whitehouse.gov   \n",
       "38    2018.0    4.0  25.0  14.0    55.0  mail.whitehouse.gov   \n",
       "2027  2017.0   10.0  30.0  14.0    55.0  mail.whitehouse.gov   \n",
       "3459  2017.0    3.0  11.0  14.0     9.0  mail.whitehouse.gov   \n",
       "4440  2017.0    6.0  12.0  18.0     0.0  mail.whitehouse.gov   \n",
       "9907  2018.0    5.0   4.0  15.0    25.0  mail.whitehouse.gov   \n",
       "\n",
       "                                                   body        date  \n",
       "14    1600 Daily https://click.mail.whitehouse.gov/?...  2017-10-06  \n",
       "38    1600 Daily https://click.mail.whitehouse.gov/?...  2018-04-25  \n",
       "2027  1600 Daily https://click.mail.whitehouse.gov/?...  2017-10-30  \n",
       "3459  Watch President Trump's Weekly Address to the ...  2017-03-11  \n",
       "4440  1600 Daily Everything White House for 6/12/201...  2017-06-12  \n",
       "9907  1600 Daily https://click.mail.whitehouse.gov/?...  2018-05-04  "
      ]
     },
     "execution_count": 61,
     "metadata": {},
     "output_type": "execute_result"
    }
   ],
   "source": [
    "df[df.name.str.contains('White House') & df.body.str.contains('freedom', flags=re.IGNORECASE)]"
   ]
  },
  {
   "cell_type": "code",
   "execution_count": null,
   "metadata": {},
   "outputs": [],
   "source": []
  }
 ],
 "metadata": {
  "interpreter": {
   "hash": "82e67d65a17c621a0c8640b52c6b71328b4ac228f6ea312536263259236ac48d"
  },
  "kernelspec": {
   "display_name": "Python 3 (ipykernel)",
   "language": "python",
   "name": "python3"
  },
  "language_info": {
   "codemirror_mode": {
    "name": "ipython",
    "version": 3
   },
   "file_extension": ".py",
   "mimetype": "text/x-python",
   "name": "python",
   "nbconvert_exporter": "python",
   "pygments_lexer": "ipython3",
   "version": "3.9.7"
  }
 },
 "nbformat": 4,
 "nbformat_minor": 4
}

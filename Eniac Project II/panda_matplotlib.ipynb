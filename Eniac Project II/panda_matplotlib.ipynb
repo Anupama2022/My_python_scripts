{
 "cells": [
  {
   "cell_type": "code",
   "execution_count": 4,
   "id": "cfc175bd-5056-4717-a451-ede3a7aab334",
   "metadata": {},
   "outputs": [],
   "source": [
    "import matplotlib.pyplot as plt\n",
    "import pandas as pd\n",
    "import seaborn as sns\n"
   ]
  },
  {
   "cell_type": "code",
   "execution_count": 6,
   "id": "97c47ba5-eaee-4381-87b1-e89430715717",
   "metadata": {},
   "outputs": [],
   "source": [
    "pd.options.display.float_format = '{:.2f}'.format"
   ]
  },
  {
   "cell_type": "code",
   "execution_count": 25,
   "id": "913a7145-86dd-4dfa-917e-ecfedaa01675",
   "metadata": {},
   "outputs": [],
   "source": [
    "\n",
    "orderlines = pd.read_csv('orderlines.csv')\n",
    "orders = pd.read_csv('orders.csv')\n",
    "products_cl = pd.read_csv('products_cl.csv')\n",
    "brands = pd.read_csv('brands.csv')"
   ]
  },
  {
   "cell_type": "code",
   "execution_count": 30,
   "id": "34714cd6-4d1b-4e08-8e23-08d6c4312cad",
   "metadata": {},
   "outputs": [
    {
     "data": {
      "text/html": [
       "<div>\n",
       "<style scoped>\n",
       "    .dataframe tbody tr th:only-of-type {\n",
       "        vertical-align: middle;\n",
       "    }\n",
       "\n",
       "    .dataframe tbody tr th {\n",
       "        vertical-align: top;\n",
       "    }\n",
       "\n",
       "    .dataframe thead th {\n",
       "        text-align: right;\n",
       "    }\n",
       "</style>\n",
       "<table border=\"1\" class=\"dataframe\">\n",
       "  <thead>\n",
       "    <tr style=\"text-align: right;\">\n",
       "      <th></th>\n",
       "      <th>order_id</th>\n",
       "      <th>created_date</th>\n",
       "      <th>total_paid</th>\n",
       "      <th>state</th>\n",
       "    </tr>\n",
       "  </thead>\n",
       "  <tbody>\n",
       "    <tr>\n",
       "      <th>0</th>\n",
       "      <td>241319</td>\n",
       "      <td>2017-01-02 13:35:40</td>\n",
       "      <td>44.99</td>\n",
       "      <td>Cancelled</td>\n",
       "    </tr>\n",
       "    <tr>\n",
       "      <th>1</th>\n",
       "      <td>241423</td>\n",
       "      <td>2017-11-06 13:10:02</td>\n",
       "      <td>136.15</td>\n",
       "      <td>Completed</td>\n",
       "    </tr>\n",
       "    <tr>\n",
       "      <th>2</th>\n",
       "      <td>242832</td>\n",
       "      <td>2017-12-31 17:40:03</td>\n",
       "      <td>15.76</td>\n",
       "      <td>Completed</td>\n",
       "    </tr>\n",
       "    <tr>\n",
       "      <th>3</th>\n",
       "      <td>243330</td>\n",
       "      <td>2017-02-16 10:59:38</td>\n",
       "      <td>84.98</td>\n",
       "      <td>Completed</td>\n",
       "    </tr>\n",
       "    <tr>\n",
       "      <th>4</th>\n",
       "      <td>243784</td>\n",
       "      <td>2017-11-24 13:35:19</td>\n",
       "      <td>157.86</td>\n",
       "      <td>Cancelled</td>\n",
       "    </tr>\n",
       "    <tr>\n",
       "      <th>...</th>\n",
       "      <td>...</td>\n",
       "      <td>...</td>\n",
       "      <td>...</td>\n",
       "      <td>...</td>\n",
       "    </tr>\n",
       "    <tr>\n",
       "      <th>226904</th>\n",
       "      <td>527397</td>\n",
       "      <td>2018-03-14 13:56:38</td>\n",
       "      <td>42.99</td>\n",
       "      <td>Place Order</td>\n",
       "    </tr>\n",
       "    <tr>\n",
       "      <th>226905</th>\n",
       "      <td>527398</td>\n",
       "      <td>2018-03-14 13:57:25</td>\n",
       "      <td>42.99</td>\n",
       "      <td>Shopping Basket</td>\n",
       "    </tr>\n",
       "    <tr>\n",
       "      <th>226906</th>\n",
       "      <td>527399</td>\n",
       "      <td>2018-03-14 13:57:34</td>\n",
       "      <td>141.58</td>\n",
       "      <td>Shopping Basket</td>\n",
       "    </tr>\n",
       "    <tr>\n",
       "      <th>226907</th>\n",
       "      <td>527400</td>\n",
       "      <td>2018-03-14 13:57:41</td>\n",
       "      <td>19.98</td>\n",
       "      <td>Shopping Basket</td>\n",
       "    </tr>\n",
       "    <tr>\n",
       "      <th>226908</th>\n",
       "      <td>527401</td>\n",
       "      <td>2018-03-14 13:58:36</td>\n",
       "      <td>18.98</td>\n",
       "      <td>Place Order</td>\n",
       "    </tr>\n",
       "  </tbody>\n",
       "</table>\n",
       "<p>226909 rows × 4 columns</p>\n",
       "</div>"
      ],
      "text/plain": [
       "        order_id        created_date  total_paid            state\n",
       "0         241319 2017-01-02 13:35:40       44.99        Cancelled\n",
       "1         241423 2017-11-06 13:10:02      136.15        Completed\n",
       "2         242832 2017-12-31 17:40:03       15.76        Completed\n",
       "3         243330 2017-02-16 10:59:38       84.98        Completed\n",
       "4         243784 2017-11-24 13:35:19      157.86        Cancelled\n",
       "...          ...                 ...         ...              ...\n",
       "226904    527397 2018-03-14 13:56:38       42.99      Place Order\n",
       "226905    527398 2018-03-14 13:57:25       42.99  Shopping Basket\n",
       "226906    527399 2018-03-14 13:57:34      141.58  Shopping Basket\n",
       "226907    527400 2018-03-14 13:57:41       19.98  Shopping Basket\n",
       "226908    527401 2018-03-14 13:58:36       18.98      Place Order\n",
       "\n",
       "[226909 rows x 4 columns]"
      ]
     },
     "execution_count": 30,
     "metadata": {},
     "output_type": "execute_result"
    }
   ],
   "source": [
    "orders\n",
    "#orderlines"
   ]
  },
  {
   "cell_type": "code",
   "execution_count": 26,
   "id": "88793066-e277-4ace-9c25-155fe5b3419c",
   "metadata": {},
   "outputs": [],
   "source": [
    "orders['created_date'] = pd.to_datetime(orders['created_date'])\n",
    "orderlines['date'] = pd.to_datetime(orderlines['date'])"
   ]
  },
  {
   "cell_type": "code",
   "execution_count": null,
   "id": "4be0bb91-5644-4724-a7d2-64c6d7234d66",
   "metadata": {},
   "outputs": [],
   "source": [
    "p_df = (\n",
    "orders_compl\n",
    "    .assgn(year =orders ['created_date']"
   ]
  },
  {
   "cell_type": "code",
   "execution_count": 31,
   "id": "6ae3040f-4e86-4742-972b-89aa2c3f7aef",
   "metadata": {},
   "outputs": [
    {
     "data": {
      "text/html": [
       "<div>\n",
       "<style scoped>\n",
       "    .dataframe tbody tr th:only-of-type {\n",
       "        vertical-align: middle;\n",
       "    }\n",
       "\n",
       "    .dataframe tbody tr th {\n",
       "        vertical-align: top;\n",
       "    }\n",
       "\n",
       "    .dataframe thead th {\n",
       "        text-align: right;\n",
       "    }\n",
       "</style>\n",
       "<table border=\"1\" class=\"dataframe\">\n",
       "  <thead>\n",
       "    <tr style=\"text-align: right;\">\n",
       "      <th></th>\n",
       "      <th>order_id</th>\n",
       "      <th>created_date</th>\n",
       "      <th>total_paid</th>\n",
       "      <th>state</th>\n",
       "    </tr>\n",
       "  </thead>\n",
       "  <tbody>\n",
       "  </tbody>\n",
       "</table>\n",
       "</div>"
      ],
      "text/plain": [
       "Empty DataFrame\n",
       "Columns: [order_id, created_date, total_paid, state]\n",
       "Index: []"
      ]
     },
     "execution_count": 31,
     "metadata": {},
     "output_type": "execute_result"
    }
   ],
   "source": [
    "orders_compl = orders.query('state ==\"completed\"')\n",
    "orders_compl"
   ]
  },
  {
   "cell_type": "code",
   "execution_count": null,
   "id": "b1efa1e3-e943-44a2-be63-cf38929704e7",
   "metadata": {},
   "outputs": [],
   "source": []
  },
  {
   "cell_type": "code",
   "execution_count": 35,
   "id": "773bc7a9-272e-46ba-9818-3a4e3c11e1e2",
   "metadata": {},
   "outputs": [
    {
     "ename": "SyntaxError",
     "evalue": "invalid syntax (Temp/ipykernel_14120/2599684775.py, line 1)",
     "output_type": "error",
     "traceback": [
      "\u001b[1;36m  File \u001b[1;32m\"C:\\Users\\Ajith\\AppData\\Local\\Temp/ipykernel_14120/2599684775.py\"\u001b[1;36m, line \u001b[1;32m1\u001b[0m\n\u001b[1;33m    p_sku_jan =\u001b[0m\n\u001b[1;37m               ^\u001b[0m\n\u001b[1;31mSyntaxError\u001b[0m\u001b[1;31m:\u001b[0m invalid syntax\n"
     ]
    }
   ],
   "source": [
    "p_sku_jan =\n",
    "(\n",
    "orderlines\n",
    "    .loc[orderlines['id_order']isin(p_df_jan['order_id'])]\n",
    "    .assign(year=orderlines['date'].dt.strftime('%Y'))\n",
    "    .groupby(['year','sku'])\n",
    "    .agg(['unit_price': 'sum'])\n",
    "    .reset_index()\n",
    "    .sort_values('unit_price', ascending = False)\n",
    "    .groupby('year')\n",
    "    .head(10)\n",
    ")  \n",
    "p_sku_jan\n",
    "    "
   ]
  },
  {
   "cell_type": "code",
   "execution_count": null,
   "id": "5bd10ff4-ecb5-47ea-9dff-d8f0a6da7eff",
   "metadata": {},
   "outputs": [],
   "source": []
  }
 ],
 "metadata": {
  "kernelspec": {
   "display_name": "Python 3 (ipykernel)",
   "language": "python",
   "name": "python3"
  },
  "language_info": {
   "codemirror_mode": {
    "name": "ipython",
    "version": 3
   },
   "file_extension": ".py",
   "mimetype": "text/x-python",
   "name": "python",
   "nbconvert_exporter": "python",
   "pygments_lexer": "ipython3",
   "version": "3.9.7"
  }
 },
 "nbformat": 4,
 "nbformat_minor": 5
}

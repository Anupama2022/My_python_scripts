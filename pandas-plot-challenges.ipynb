{
 "cells": [
  {
   "cell_type": "markdown",
   "metadata": {},
   "source": [
    "# Data Visualization\n",
    "\n",
    "As always, let's start by loading some data. We will start with the small `people_csv` so that it's easier to understand what's going on. Make sure to read the dataset that came in the same folder as this notebook, because we have added some people and some columns:"
   ]
  },
  {
   "cell_type": "code",
   "execution_count": 2,
   "metadata": {},
   "outputs": [
    {
     "data": {
      "text/html": [
       "<div>\n",
       "<style scoped>\n",
       "    .dataframe tbody tr th:only-of-type {\n",
       "        vertical-align: middle;\n",
       "    }\n",
       "\n",
       "    .dataframe tbody tr th {\n",
       "        vertical-align: top;\n",
       "    }\n",
       "\n",
       "    .dataframe thead th {\n",
       "        text-align: right;\n",
       "    }\n",
       "</style>\n",
       "<table border=\"1\" class=\"dataframe\">\n",
       "  <thead>\n",
       "    <tr style=\"text-align: right;\">\n",
       "      <th></th>\n",
       "      <th>name</th>\n",
       "      <th>age</th>\n",
       "      <th>country</th>\n",
       "      <th>sibilings</th>\n",
       "      <th>favourite_color</th>\n",
       "      <th>credit</th>\n",
       "    </tr>\n",
       "  </thead>\n",
       "  <tbody>\n",
       "    <tr>\n",
       "      <th>0</th>\n",
       "      <td>Erika Schumacher</td>\n",
       "      <td>22</td>\n",
       "      <td>DE</td>\n",
       "      <td>2</td>\n",
       "      <td>Red</td>\n",
       "      <td>100</td>\n",
       "    </tr>\n",
       "    <tr>\n",
       "      <th>1</th>\n",
       "      <td>Javi López</td>\n",
       "      <td>50</td>\n",
       "      <td>ES</td>\n",
       "      <td>5</td>\n",
       "      <td>Yellow</td>\n",
       "      <td>95</td>\n",
       "    </tr>\n",
       "    <tr>\n",
       "      <th>2</th>\n",
       "      <td>Maria Rovira</td>\n",
       "      <td>23</td>\n",
       "      <td>ES</td>\n",
       "      <td>4</td>\n",
       "      <td>Yellow</td>\n",
       "      <td>89</td>\n",
       "    </tr>\n",
       "    <tr>\n",
       "      <th>3</th>\n",
       "      <td>Ana Garamond</td>\n",
       "      <td>29</td>\n",
       "      <td>ES</td>\n",
       "      <td>1</td>\n",
       "      <td>Blue</td>\n",
       "      <td>88</td>\n",
       "    </tr>\n",
       "    <tr>\n",
       "      <th>4</th>\n",
       "      <td>Shekhar Biswas</td>\n",
       "      <td>44</td>\n",
       "      <td>IN</td>\n",
       "      <td>3</td>\n",
       "      <td>Red</td>\n",
       "      <td>89</td>\n",
       "    </tr>\n",
       "    <tr>\n",
       "      <th>5</th>\n",
       "      <td>Muriel Adams</td>\n",
       "      <td>30</td>\n",
       "      <td>DE</td>\n",
       "      <td>2</td>\n",
       "      <td>Yellow</td>\n",
       "      <td>100</td>\n",
       "    </tr>\n",
       "    <tr>\n",
       "      <th>6</th>\n",
       "      <td>Saira Polom</td>\n",
       "      <td>25</td>\n",
       "      <td>IN</td>\n",
       "      <td>1</td>\n",
       "      <td>Blue</td>\n",
       "      <td>97</td>\n",
       "    </tr>\n",
       "    <tr>\n",
       "      <th>7</th>\n",
       "      <td>Alex Edwin</td>\n",
       "      <td>71</td>\n",
       "      <td>UK</td>\n",
       "      <td>7</td>\n",
       "      <td>Blue</td>\n",
       "      <td>88</td>\n",
       "    </tr>\n",
       "    <tr>\n",
       "      <th>8</th>\n",
       "      <td>Kit Ching</td>\n",
       "      <td>35</td>\n",
       "      <td>UK</td>\n",
       "      <td>2</td>\n",
       "      <td>Red</td>\n",
       "      <td>98</td>\n",
       "    </tr>\n",
       "    <tr>\n",
       "      <th>9</th>\n",
       "      <td>Dog Woof</td>\n",
       "      <td>2</td>\n",
       "      <td>XX</td>\n",
       "      <td>9</td>\n",
       "      <td>Gray</td>\n",
       "      <td>99</td>\n",
       "    </tr>\n",
       "    <tr>\n",
       "      <th>10</th>\n",
       "      <td>Gerry Adams</td>\n",
       "      <td>27</td>\n",
       "      <td>UK</td>\n",
       "      <td>2</td>\n",
       "      <td>Orange</td>\n",
       "      <td>89</td>\n",
       "    </tr>\n",
       "    <tr>\n",
       "      <th>11</th>\n",
       "      <td>Paulette Chiraq</td>\n",
       "      <td>40</td>\n",
       "      <td>FR</td>\n",
       "      <td>3</td>\n",
       "      <td>Blue</td>\n",
       "      <td>89</td>\n",
       "    </tr>\n",
       "    <tr>\n",
       "      <th>12</th>\n",
       "      <td>Justus Fromm</td>\n",
       "      <td>23</td>\n",
       "      <td>DE</td>\n",
       "      <td>1</td>\n",
       "      <td>Blue</td>\n",
       "      <td>100</td>\n",
       "    </tr>\n",
       "    <tr>\n",
       "      <th>13</th>\n",
       "      <td>Léandre Boucher</td>\n",
       "      <td>19</td>\n",
       "      <td>FR</td>\n",
       "      <td>0</td>\n",
       "      <td>Red</td>\n",
       "      <td>93</td>\n",
       "    </tr>\n",
       "    <tr>\n",
       "      <th>14</th>\n",
       "      <td>Jonatan Maier</td>\n",
       "      <td>32</td>\n",
       "      <td>DE</td>\n",
       "      <td>2</td>\n",
       "      <td>Blue</td>\n",
       "      <td>91</td>\n",
       "    </tr>\n",
       "    <tr>\n",
       "      <th>15</th>\n",
       "      <td>Hildegarde Von Grimmelshausen</td>\n",
       "      <td>38</td>\n",
       "      <td>DE</td>\n",
       "      <td>4</td>\n",
       "      <td>Red</td>\n",
       "      <td>88</td>\n",
       "    </tr>\n",
       "    <tr>\n",
       "      <th>16</th>\n",
       "      <td>Pankraz Sala</td>\n",
       "      <td>27</td>\n",
       "      <td>IN</td>\n",
       "      <td>3</td>\n",
       "      <td>Yellow</td>\n",
       "      <td>88</td>\n",
       "    </tr>\n",
       "  </tbody>\n",
       "</table>\n",
       "</div>"
      ],
      "text/plain": [
       "                             name  age country  sibilings favourite_color  \\\n",
       "0                Erika Schumacher   22      DE          2             Red   \n",
       "1                      Javi López   50      ES          5          Yellow   \n",
       "2                    Maria Rovira   23      ES          4          Yellow   \n",
       "3                    Ana Garamond   29      ES          1            Blue   \n",
       "4                  Shekhar Biswas   44      IN          3             Red   \n",
       "5                    Muriel Adams   30      DE          2          Yellow   \n",
       "6                     Saira Polom   25      IN          1            Blue   \n",
       "7                      Alex Edwin   71      UK          7            Blue   \n",
       "8                       Kit Ching   35      UK          2             Red   \n",
       "9                        Dog Woof    2      XX          9            Gray   \n",
       "10                    Gerry Adams   27      UK          2          Orange   \n",
       "11                Paulette Chiraq   40      FR          3            Blue   \n",
       "12                   Justus Fromm   23      DE          1            Blue   \n",
       "13                Léandre Boucher   19      FR          0             Red   \n",
       "14                  Jonatan Maier   32      DE          2            Blue   \n",
       "15  Hildegarde Von Grimmelshausen   38      DE          4             Red   \n",
       "16                   Pankraz Sala   27      IN          3          Yellow   \n",
       "\n",
       "    credit  \n",
       "0      100  \n",
       "1       95  \n",
       "2       89  \n",
       "3       88  \n",
       "4       89  \n",
       "5      100  \n",
       "6       97  \n",
       "7       88  \n",
       "8       98  \n",
       "9       99  \n",
       "10      89  \n",
       "11      89  \n",
       "12     100  \n",
       "13      93  \n",
       "14      91  \n",
       "15      88  \n",
       "16      88  "
      ]
     },
     "execution_count": 2,
     "metadata": {},
     "output_type": "execute_result"
    }
   ],
   "source": [
    "# code here\n",
    "import pandas as pd\n",
    "people = pd.read_csv('people.csv')\n",
    "people"
   ]
  },
  {
   "cell_type": "markdown",
   "metadata": {},
   "source": [
    "## Pandas plotting\n",
    "\n",
    "### Plotting 1 variable"
   ]
  },
  {
   "cell_type": "markdown",
   "metadata": {},
   "source": [
    "So far, we've seen Pandas `.hist()` or `.plot()` methods. Those are incredibly convenient, and more than enough when you are visualizing data for yourself, as part of the exploration process:"
   ]
  },
  {
   "cell_type": "code",
   "execution_count": 4,
   "metadata": {},
   "outputs": [
    {
     "data": {
      "image/png": "[encoded data removed]",
      "text/plain": [
       "<Figure size 432x288 with 1 Axes>"
      ]
     },
     "metadata": {
      "needs_background": "light"
     },
     "output_type": "display_data"
    }
   ],
   "source": [
    "people.age.hist();\n"
   ]
  },
  {
   "cell_type": "code",
   "execution_count": 8,
   "metadata": {},
   "outputs": [
    {
     "data": {
      "image/png": "[encoded data removed]",
      "text/plain": [
       "<Figure size 432x288 with 1 Axes>"
      ]
     },
     "metadata": {
      "needs_background": "light"
     },
     "output_type": "display_data"
    }
   ],
   "source": [
    "people.sibilings.plot();"
   ]
  },
  {
   "cell_type": "markdown",
   "metadata": {},
   "source": [
    "Pandas plotting is limited in terms of tweaking/customizing the plot, but you can still change some basic stuff, like the number of bins in a histogram or the figure size:"
   ]
  },
  {
   "cell_type": "code",
   "execution_count": 13,
   "metadata": {},
   "outputs": [
    {
     "data": {
      "image/png": "[encoded data removed]",
      "text/plain": [
       "<Figure size 576x432 with 1 Axes>"
      ]
     },
     "metadata": {
      "needs_background": "light"
     },
     "output_type": "display_data"
    }
   ],
   "source": [
    "people.age.hist(bins=4, figsize=(8,6));"
   ]
  },
  {
   "cell_type": "markdown",
   "metadata": {},
   "source": [
    "For simple frequency pots with categorical data, remember:\n",
    "\n",
    "- You should first group the categories and generate the frequencies with `value_counts()\n",
    "\n",
    "- You should not use a histogram but a bar plot.\n",
    "\n",
    "Let's see this in action:"
   ]
  },
  {
   "cell_type": "code",
   "execution_count": 3,
   "metadata": {},
   "outputs": [
    {
     "data": {
      "text/plain": [
       "Blue      6\n",
       "Red       5\n",
       "Yellow    4\n",
       "Gray      1\n",
       "Orange    1\n",
       "Name: favourite_color, dtype: int64"
      ]
     },
     "execution_count": 3,
     "metadata": {},
     "output_type": "execute_result"
    }
   ],
   "source": [
    "color_freq = people.favourite_color.value_counts()\n",
    "color_freq"
   ]
  },
  {
   "cell_type": "code",
   "execution_count": 4,
   "metadata": {
    "tags": []
   },
   "outputs": [
    {
     "data": {
      "image/png": "[encoded data removed]",
      "text/plain": [
       "<Figure size 432x288 with 1 Axes>"
      ]
     },
     "metadata": {
      "needs_background": "light"
     },
     "output_type": "display_data"
    }
   ],
   "source": [
    "color_freq.plot.bar();"
   ]
  },
  {
   "cell_type": "code",
   "execution_count": 7,
   "metadata": {},
   "outputs": [
    {
     "data": {
      "text/plain": [
       "<AxesSubplot:>"
      ]
     },
     "execution_count": 7,
     "metadata": {},
     "output_type": "execute_result"
    },
    {
     "data": {
      "image/png": "[encoded data removed]",
      "text/plain": [
       "<Figure size 432x288 with 1 Axes>"
      ]
     },
     "metadata": {
      "needs_background": "light"
     },
     "output_type": "display_data"
    }
   ],
   "source": [
    "people_age = people.age.value_counts()\n",
    "people_age\n",
    "people_age.plot.bar()"
   ]
  },
  {
   "cell_type": "markdown",
   "metadata": {},
   "source": [
    "Similarly to the histogram, there are some parameters available. The documentation is always the ultimate source of truth when it comes to understanding which parameters you can tweak and how to do it:\n",
    "\n",
    "- [These are the docs specifically for `DataFrame.plot.bar()`](https://pandas.pydata.org/docs/reference/api/pandas.DataFrame.plot.bar.html)\n",
    "- [Here are the docs for `DataFrame.plot()`](https://pandas.pydata.org/docs/reference/api/pandas.DataFrame.plot.html#pandas.DataFrame.plot), with arguments that apply to all types of plots."
   ]
  },
  {
   "cell_type": "code",
   "execution_count": 8,
   "metadata": {
    "tags": []
   },
   "outputs": [
    {
     "data": {
      "image/png": "[encoded data removed]",
      "text/plain": [
       "<Figure size 432x288 with 1 Axes>"
      ]
     },
     "metadata": {
      "needs_background": "light"
     },
     "output_type": "display_data"
    }
   ],
   "source": [
    "color_freq.plot.bar(color=[\"blue\", \"red\", \"yellow\", \"gray\", \"orange\"]);"
   ]
  },
  {
   "cell_type": "markdown",
   "metadata": {},
   "source": [
    "**Exercise**: Make a bar plot for the countries where people are from. Highlight India (IN) in a brighter color.\n",
    "\n",
    "Tip: if you want to use prettier colors, you'll find some [here](https://matplotlib.org/stable/gallery/color/named_colors.html)."
   ]
  },
  {
   "cell_type": "code",
   "execution_count": 27,
   "metadata": {},
   "outputs": [
    {
     "data": {
      "image/png": "[encoded data removed]",
      "text/plain": [
       "<Figure size 432x288 with 1 Axes>"
      ]
     },
     "metadata": {
      "needs_background": "light"
     },
     "output_type": "display_data"
    }
   ],
   "source": [
    "# code here\n",
    "people_country = people.country.value_counts()\n",
    "people_country\n",
    "people_country.plot.bar(color = [\"blue\", \"blue\", \"red\", \"blue\", \"blue\",\"blue\"]);"
   ]
  },
  {
   "cell_type": "markdown",
   "metadata": {},
   "source": [
    "### Plotting 2 variables\n",
    "\n",
    "Whenever you want to see if there is a relationship between two numerical variables, you can compute a linear correlation coefficient or perform more sophisticated statistical tests, but nothing beats a good scatter plot:"
   ]
  },
  {
   "cell_type": "code",
   "execution_count": 29,
   "metadata": {},
   "outputs": [
    {
     "data": {
      "image/png": "[encoded data removed]",
      "text/plain": [
       "<Figure size 432x288 with 1 Axes>"
      ]
     },
     "metadata": {
      "needs_background": "light"
     },
     "output_type": "display_data"
    },
    {
     "data": {
      "image/png": "[encoded data removed]",
      "text/plain": [
       "<Figure size 432x288 with 1 Axes>"
      ]
     },
     "metadata": {
      "needs_background": "light"
     },
     "output_type": "display_data"
    }
   ],
   "source": [
    "people.plot.scatter(x=\"age\", y=\"sibilings\");\n",
    "people.plot.bar(x=\"age\", y=\"sibilings\");"
   ]
  },
  {
   "cell_type": "markdown",
   "metadata": {},
   "source": [
    "Let's tweak some arguments: \n",
    "\n",
    "- The `c` argument allows colors to depend on the values of another (numerical) column.\n",
    "- The `cmap` argument allows the usage of \"color maps\" to fill the dots. See all available cmaps [here](https://matplotlib.org/stable/tutorials/colors/colormaps.html)\n",
    "- The `s` argument modifies the size of the dots.\n",
    "- The `figsize` argument defines de size of the whole plot.\n",
    "- The `sharex` argument allows us to specify that the legend for the colors and the x axis of the scatterplot should not share the axis (it's a bit annoying that this is not the default... welcome to the world of plotting with code!)"
   ]
  },
  {
   "cell_type": "markdown",
   "metadata": {},
   "source": [
    "Note: Some of these options might only be available if you have one of the latest Pandas versions, since `pandas.plot()` is one of the areas where pandas is growing. You can check your pandas version with `pd.__version__` in the notebook. If your version is substantially older than the one shown in [here](https://pandas.pydata.org/docs/index.html), consider updating pandas by typing on your Terminal `pip install --upgrade pandas`."
   ]
  },
  {
   "cell_type": "code",
   "execution_count": 32,
   "metadata": {},
   "outputs": [
    {
     "data": {
      "image/png": "[encoded data removed]",
      "text/plain": [
       "<Figure size 864x576 with 2 Axes>"
      ]
     },
     "metadata": {
      "needs_background": "light"
     },
     "output_type": "display_data"
    }
   ],
   "source": [
    "people.plot.scatter(x=\"age\", \n",
    "                    y=\"sibilings\", \n",
    "                    c=\"credit\",\n",
    "                    s=100,\n",
    "                    cmap=\"viridis\",\n",
    "                    figsize=(12,8),\n",
    "                    sharex=False\n",
    "                   );\n"
   ]
  },
  {
   "cell_type": "markdown",
   "metadata": {},
   "source": [
    "### Challenges:\n",
    "\n",
    "Using the `vehicles.csv` dataset, create plots to display the following:"
   ]
  },
  {
   "cell_type": "markdown",
   "metadata": {},
   "source": [
    "- How many cars have Automatic or Manual transmission (using the cleaning process from the last challenge)."
   ]
  },
  {
   "cell_type": "code",
   "execution_count": 33,
   "metadata": {},
   "outputs": [
    {
     "name": "stdout",
     "output_type": "stream",
     "text": [
      "                   Make                Model  Year  Engine Displacement  \\\n",
      "0            AM General    DJ Po Vehicle 2WD  1984                  2.5   \n",
      "1            AM General     FJ8c Post Office  1984                  4.2   \n",
      "2            AM General  Post Office DJ5 2WD  1985                  2.5   \n",
      "3            AM General  Post Office DJ8 2WD  1985                  4.2   \n",
      "4      ASC Incorporated                  GNX  1987                  3.8   \n",
      "...                 ...                  ...   ...                  ...   \n",
      "35947             smart         fortwo coupe  2013                  1.0   \n",
      "35948             smart         fortwo coupe  2014                  1.0   \n",
      "35949             smart         fortwo coupe  2015                  1.0   \n",
      "35950             smart         fortwo coupe  2016                  0.9   \n",
      "35951             smart         fortwo coupe  2016                  0.9   \n",
      "\n",
      "       Cylinders     Transmission        Drivetrain  \\\n",
      "0            4.0  Automatic 3-spd     2-Wheel Drive   \n",
      "1            6.0  Automatic 3-spd     2-Wheel Drive   \n",
      "2            4.0  Automatic 3-spd  Rear-Wheel Drive   \n",
      "3            6.0  Automatic 3-spd  Rear-Wheel Drive   \n",
      "4            6.0  Automatic 4-spd  Rear-Wheel Drive   \n",
      "...          ...              ...               ...   \n",
      "35947        3.0        Auto(AM5)  Rear-Wheel Drive   \n",
      "35948        3.0        Auto(AM5)  Rear-Wheel Drive   \n",
      "35949        3.0        Auto(AM5)  Rear-Wheel Drive   \n",
      "35950        3.0        Auto(AM6)  Rear-Wheel Drive   \n",
      "35951        3.0     Manual 5-spd  Rear-Wheel Drive   \n",
      "\n",
      "                     Vehicle Class Fuel Type  Fuel Barrels/Year  City MPG  \\\n",
      "0      Special Purpose Vehicle 2WD   Regular          19.388824        18   \n",
      "1      Special Purpose Vehicle 2WD   Regular          25.354615        13   \n",
      "2      Special Purpose Vehicle 2WD   Regular          20.600625        16   \n",
      "3      Special Purpose Vehicle 2WD   Regular          25.354615        13   \n",
      "4                     Midsize Cars   Premium          20.600625        14   \n",
      "...                            ...       ...                ...       ...   \n",
      "35947                  Two Seaters   Premium           9.155833        34   \n",
      "35948                  Two Seaters   Premium           9.155833        34   \n",
      "35949                  Two Seaters   Premium           9.155833        34   \n",
      "35950                  Two Seaters   Premium           9.155833        34   \n",
      "35951                  Two Seaters   Premium           9.417429        32   \n",
      "\n",
      "       Highway MPG  Combined MPG  CO2 Emission Grams/Mile  Fuel Cost/Year  \n",
      "0               17            17               522.764706            1950  \n",
      "1               13            13               683.615385            2550  \n",
      "2               17            16               555.437500            2100  \n",
      "3               13            13               683.615385            2550  \n",
      "4               21            16               555.437500            2550  \n",
      "...            ...           ...                      ...             ...  \n",
      "35947           38            36               244.000000            1100  \n",
      "35948           38            36               243.000000            1100  \n",
      "35949           38            36               244.000000            1100  \n",
      "35950           39            36               246.000000            1100  \n",
      "35951           39            35               255.000000            1150  \n",
      "\n",
      "[35952 rows x 15 columns]\n"
     ]
    }
   ],
   "source": [
    "# code here\n",
    "cars=pd.read_csv('vehicles.csv')\n",
    "print(cars)"
   ]
  },
  {
   "cell_type": "code",
   "execution_count": 48,
   "metadata": {},
   "outputs": [
    {
     "data": {
      "image/png": "[encoded data removed]",
      "text/plain": [
       "<Figure size 432x288 with 1 Axes>"
      ]
     },
     "metadata": {
      "needs_background": "light"
     },
     "output_type": "display_data"
    }
   ],
   "source": [
    "cars_transmission = cars.Transmission.str.contains('Auto.')\n",
    "#cars_transmission\n",
    "cars['cars_transmission'] = cars_transmission\n",
    "\n",
    "cars_transmission.value_counts().plot.bar();"
   ]
  },
  {
   "cell_type": "markdown",
   "metadata": {},
   "source": [
    "- How many cars have each type of Drivetrain. Highlight \"All-Wheel Drive\"."
   ]
  },
  {
   "cell_type": "code",
   "execution_count": 61,
   "metadata": {},
   "outputs": [
    {
     "data": {
      "image/png": "[encoded data removed]",
      "text/plain": [
       "<Figure size 432x288 with 1 Axes>"
      ]
     },
     "metadata": {
      "needs_background": "light"
     },
     "output_type": "display_data"
    }
   ],
   "source": [
    "# code here\n",
    "cars.Drivetrain.value_counts().plot.bar(color = [\"blue\", \"blue\",\"blue\", \"red\",  \"blue\",\"blue\", \"blue\", \"blue\"]);"
   ]
  },
  {
   "cell_type": "markdown",
   "metadata": {},
   "source": [
    "- The relationship between fuel consumption (you can use the column `Combined MPG`) and the number of cylinders a car has, using a scatterplot:"
   ]
  },
  {
   "cell_type": "code",
   "execution_count": 75,
   "metadata": {},
   "outputs": [
    {
     "data": {
      "image/png": "[encoded data removed]",
      "text/plain": [
       "<Figure size 864x576 with 1 Axes>"
      ]
     },
     "metadata": {
      "needs_background": "light"
     },
     "output_type": "display_data"
    }
   ],
   "source": [
    "# code here#people.plot.scatter(x=\"age\", \n",
    "\n",
    "\n",
    "\n",
    "cars.plot.scatter(x=\"Combined MPG\", \n",
    "                    y=\"Cylinders\", \n",
    "                    \n",
    "                    s=100,\n",
    "                    cmap=\"viridis\",\n",
    "                    figsize=(12,8),\n",
    "                    sharex=False\n",
    "                   );"
   ]
  },
  {
   "cell_type": "markdown",
   "metadata": {},
   "source": [
    "- Explore the same relationship, but now use a [boxplot](https://pandas.pydata.org/docs/reference/api/pandas.DataFrame.boxplot.html):"
   ]
  },
  {
   "cell_type": "code",
   "execution_count": 77,
   "metadata": {},
   "outputs": [
    {
     "data": {
      "image/png": "[encoded data removed]",
      "text/plain": [
       "<Figure size 432x288 with 1 Axes>"
      ]
     },
     "metadata": {
      "needs_background": "light"
     },
     "output_type": "display_data"
    }
   ],
   "source": [
    "# code here\n",
    "\n",
    "cars.boxplot(column=['Combined MPG', 'Cylinders']); "
   ]
  },
  {
   "cell_type": "markdown",
   "metadata": {},
   "source": [
    "- Create a plot that displays the evolution of the average CO2 emissions by cars over the years."
   ]
  },
  {
   "cell_type": "code",
   "execution_count": 87,
   "metadata": {},
   "outputs": [
    {
     "data": {
      "image/png": "[encoded data removed]",
      "text/plain": [
       "<Figure size 864x432 with 1 Axes>"
      ]
     },
     "metadata": {
      "needs_background": "light"
     },
     "output_type": "display_data"
    }
   ],
   "source": [
    "# code herecars[\"Fuel Type\"])[\"Cylinders\"\n",
    "mean_CO2 = cars.groupby(cars['Year'])['CO2 Emission Grams/Mile'].mean()\n",
    "mean_CO2.plot.bar( figsize=(12,6));"
   ]
  },
  {
   "cell_type": "markdown",
   "metadata": {},
   "source": [
    "- Create a plot that clearly displays the evolution of the different types of fuel over the decades (only for the most common fuel types: \"Diesel\", \"Gasoline or E85\", \"Premium\", \"Regular\").\n",
    "\n",
    "Note: you might have to transform the data shape before actually plotting. Use the column you created in the `intro-to-pandas` notebook with bins for each decade, and take a look at the [pivot_table](https://pandas.pydata.org/docs/reference/api/pandas.pivot_table.html) function."
   ]
  },
  {
   "cell_type": "code",
   "execution_count": null,
   "metadata": {},
   "outputs": [],
   "source": [
    "# code here"
   ]
  }
 ],
 "metadata": {
  "kernelspec": {
   "display_name": "Python 3 (ipykernel)",
   "language": "python",
   "name": "python3"
  },
  "language_info": {
   "codemirror_mode": {
    "name": "ipython",
    "version": 3
   },
   "file_extension": ".py",
   "mimetype": "text/x-python",
   "name": "python",
   "nbconvert_exporter": "python",
   "pygments_lexer": "ipython3",
   "version": "3.9.7"
  }
 },
 "nbformat": 4,
 "nbformat_minor": 4
}
